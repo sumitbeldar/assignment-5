{
 "cells": [
  {
   "cell_type": "code",
   "execution_count": 1,
   "id": "7b4f91d4",
   "metadata": {},
   "outputs": [
    {
     "name": "stdout",
     "output_type": "stream",
     "text": [
      "Enter Password: jcddkckdmc\n",
      "Invalid Password: Password should 10 characters long\n"
     ]
    }
   ],
   "source": [
    "#Q1\n",
    "def check_password(password):\n",
    "    # Password should have at least 8 characters\n",
    "    if len(password) < 11:\n",
    "        return \"Invalid Password: Password should 10 characters long\"\n",
    "    \n",
    "    # Password should have at least one lowercase letter\n",
    "    if not any(char.islower() for char in password):\n",
    "        return \"Invalid Password: Password should have at least two lowercase letter\"\n",
    "    \n",
    "    # Password should have at least one uppercase letter\n",
    "    if not any(char.isupper() for char in password):\n",
    "        return \"Invalid Password: Password should have at least two uppercase letter\"\n",
    "    \n",
    "    # Password should have at least one digit\n",
    "    if not any(char.isdigit() for char in password):\n",
    "        return \"Invalid Password: Password should have at least one digit\"\n",
    "    \n",
    "    # Password should have at least one special character\n",
    "    special_chars = \"!@#$%^&*()-+\"\n",
    "    if not any(char in special_chars for char in password):\n",
    "        return \"Invalid Password: Password should have at least three special character\"\n",
    "    \n",
    "    # If all conditions are satisfied, return \"Valid Password\"\n",
    "    return \"Valid Password\"\n",
    "password = input(\"Enter Password: \")\n",
    "print(check_password(password))"
   ]
  },
  {
   "cell_type": "code",
   "execution_count": 2,
   "id": "350b07a4",
   "metadata": {},
   "outputs": [
    {
     "name": "stdout",
     "output_type": "stream",
     "text": [
      "['banana']\n"
     ]
    }
   ],
   "source": [
    "#Q2\n",
    "strings = ['apple', 'banana', 'cherry', 'date', 'elderberry']\n",
    "letter = 'b'\n",
    "filtered_strings = list(filter(lambda s: s.startswith(letter), strings))\n",
    "print(filtered_strings)\n"
   ]
  },
  {
   "cell_type": "code",
   "execution_count": 3,
   "id": "3196dbfa",
   "metadata": {},
   "outputs": [
    {
     "name": "stdout",
     "output_type": "stream",
     "text": [
      "['123', '456']\n"
     ]
    }
   ],
   "source": [
    "strings = ['apple', '123', 'cherry', '456', 'elderberry']\n",
    "filtered_strings = list(filter(lambda s: s.isnumeric(), strings))\n",
    "print(filtered_strings)"
   ]
  },
  {
   "cell_type": "code",
   "execution_count": 4,
   "id": "c1facfce",
   "metadata": {},
   "outputs": [
    {
     "name": "stdout",
     "output_type": "stream",
     "text": [
      "[('orange', 80), ('mango', 99), ('grapes', 1000)]\n"
     ]
    }
   ],
   "source": [
    "fruits = [(\"mango\", 99), (\"orange\", 80), (\"grapes\", 1000)]\n",
    "sorted_fruits = sorted(fruits, key=lambda x: x[1])\n",
    "print(sorted_fruits)"
   ]
  },
  {
   "cell_type": "code",
   "execution_count": 5,
   "id": "7fb5bed9",
   "metadata": {},
   "outputs": [
    {
     "name": "stdout",
     "output_type": "stream",
     "text": [
      "[1, 4, 9, 16, 25, 36, 49, 64, 81, 100]\n"
     ]
    }
   ],
   "source": [
    "numbers = list(range(1, 11))\n",
    "squares = list(map(lambda x: x**2, numbers))\n",
    "print(squares)"
   ]
  },
  {
   "cell_type": "code",
   "execution_count": 6,
   "id": "01fbe0ad",
   "metadata": {},
   "outputs": [
    {
     "name": "stdout",
     "output_type": "stream",
     "text": [
      "[1, 8, 27, 64, 125, 216, 343, 512, 729, 1000]\n"
     ]
    }
   ],
   "source": [
    "numbers = list(range(1, 11))\n",
    "cube_roots = list(map(lambda x:x**3, numbers))\n",
    "print(cube_roots)"
   ]
  },
  {
   "cell_type": "code",
   "execution_count": 8,
   "id": "d83aa482",
   "metadata": {},
   "outputs": [
    {
     "name": "stdout",
     "output_type": "stream",
     "text": [
      "Even\n"
     ]
    }
   ],
   "source": [
    "num = 8\n",
    "result = \"Even\" if (lambda x: x % 2 == 0)(num) else \"Odd\"\n",
    "print(result)"
   ]
  },
  {
   "cell_type": "code",
   "execution_count": 9,
   "id": "6041d8c6",
   "metadata": {},
   "outputs": [
    {
     "name": "stdout",
     "output_type": "stream",
     "text": [
      "[1, 3, 5, 7, 9]\n"
     ]
    }
   ],
   "source": [
    "lst = [1,2,3,4,5,6,7,8,9,10]\n",
    "result = list(filter(lambda x: x % 2 != 0, lst))\n",
    "print(result)"
   ]
  },
  {
   "cell_type": "code",
   "execution_count": 10,
   "id": "ea702c4d",
   "metadata": {},
   "outputs": [
    {
     "name": "stdout",
     "output_type": "stream",
     "text": [
      "Positive Integers: [1, 2, 3, 4, 5, 6]\n",
      "Negative Integers: [-1, -2, -3, -4, -5]\n"
     ]
    }
   ],
   "source": [
    "lst = [1, 2, 3, 4, 5, 6, -1, -2, -3, -4, -5, 0]\n",
    "pos_lst = list(filter(lambda x: x > 0, lst))\n",
    "neg_lst = list(filter(lambda x: x < 0, lst))\n",
    "print(\"Positive Integers:\", pos_lst)\n",
    "print(\"Negative Integers:\", neg_lst)"
   ]
  },
  {
   "cell_type": "code",
   "execution_count": null,
   "id": "595f322a",
   "metadata": {},
   "outputs": [],
   "source": []
  }
 ],
 "metadata": {
  "kernelspec": {
   "display_name": "Python 3 (ipykernel)",
   "language": "python",
   "name": "python3"
  },
  "language_info": {
   "codemirror_mode": {
    "name": "ipython",
    "version": 3
   },
   "file_extension": ".py",
   "mimetype": "text/x-python",
   "name": "python",
   "nbconvert_exporter": "python",
   "pygments_lexer": "ipython3",
   "version": "3.9.13"
  }
 },
 "nbformat": 4,
 "nbformat_minor": 5
}
